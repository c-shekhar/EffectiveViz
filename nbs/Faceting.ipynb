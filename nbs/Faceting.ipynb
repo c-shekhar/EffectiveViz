{
 "cells": [
  {
   "cell_type": "code",
   "execution_count": 1,
   "metadata": {
    "collapsed": true
   },
   "outputs": [],
   "source": [
    "%matplotlib inline\n",
    "import pandas as pd\n",
    "import seaborn as sns"
   ]
  },
  {
   "cell_type": "code",
   "execution_count": 2,
   "metadata": {
    "collapsed": true
   },
   "outputs": [],
   "source": [
    "path = '../data/fifa-18-demo-player-dataset/'"
   ]
  },
  {
   "cell_type": "code",
   "execution_count": 28,
   "metadata": {},
   "outputs": [],
   "source": [
    "footballers = pd.read_csv(path+'CompleteDataset.csv',index_col=0)"
   ]
  },
  {
   "cell_type": "code",
   "execution_count": 29,
   "metadata": {},
   "outputs": [
    {
     "data": {
      "text/html": [
       "<div>\n",
       "<style>\n",
       "    .dataframe thead tr:only-child th {\n",
       "        text-align: right;\n",
       "    }\n",
       "\n",
       "    .dataframe thead th {\n",
       "        text-align: left;\n",
       "    }\n",
       "\n",
       "    .dataframe tbody tr th {\n",
       "        vertical-align: top;\n",
       "    }\n",
       "</style>\n",
       "<table border=\"1\" class=\"dataframe\">\n",
       "  <thead>\n",
       "    <tr style=\"text-align: right;\">\n",
       "      <th></th>\n",
       "      <th>Name</th>\n",
       "      <th>Age</th>\n",
       "      <th>Photo</th>\n",
       "      <th>Nationality</th>\n",
       "      <th>Flag</th>\n",
       "      <th>Overall</th>\n",
       "      <th>Potential</th>\n",
       "      <th>Club</th>\n",
       "      <th>Club Logo</th>\n",
       "      <th>Value</th>\n",
       "      <th>...</th>\n",
       "      <th>RB</th>\n",
       "      <th>RCB</th>\n",
       "      <th>RCM</th>\n",
       "      <th>RDM</th>\n",
       "      <th>RF</th>\n",
       "      <th>RM</th>\n",
       "      <th>RS</th>\n",
       "      <th>RW</th>\n",
       "      <th>RWB</th>\n",
       "      <th>ST</th>\n",
       "    </tr>\n",
       "  </thead>\n",
       "  <tbody>\n",
       "    <tr>\n",
       "      <th>0</th>\n",
       "      <td>Cristiano Ronaldo</td>\n",
       "      <td>32</td>\n",
       "      <td>https://cdn.sofifa.org/48/18/players/20801.png</td>\n",
       "      <td>Portugal</td>\n",
       "      <td>https://cdn.sofifa.org/flags/38.png</td>\n",
       "      <td>94</td>\n",
       "      <td>94</td>\n",
       "      <td>Real Madrid CF</td>\n",
       "      <td>https://cdn.sofifa.org/24/18/teams/243.png</td>\n",
       "      <td>€95.5M</td>\n",
       "      <td>...</td>\n",
       "      <td>61.0</td>\n",
       "      <td>53.0</td>\n",
       "      <td>82.0</td>\n",
       "      <td>62.0</td>\n",
       "      <td>91.0</td>\n",
       "      <td>89.0</td>\n",
       "      <td>92.0</td>\n",
       "      <td>91.0</td>\n",
       "      <td>66.0</td>\n",
       "      <td>92.0</td>\n",
       "    </tr>\n",
       "    <tr>\n",
       "      <th>1</th>\n",
       "      <td>L. Messi</td>\n",
       "      <td>30</td>\n",
       "      <td>https://cdn.sofifa.org/48/18/players/158023.png</td>\n",
       "      <td>Argentina</td>\n",
       "      <td>https://cdn.sofifa.org/flags/52.png</td>\n",
       "      <td>93</td>\n",
       "      <td>93</td>\n",
       "      <td>FC Barcelona</td>\n",
       "      <td>https://cdn.sofifa.org/24/18/teams/241.png</td>\n",
       "      <td>€105M</td>\n",
       "      <td>...</td>\n",
       "      <td>57.0</td>\n",
       "      <td>45.0</td>\n",
       "      <td>84.0</td>\n",
       "      <td>59.0</td>\n",
       "      <td>92.0</td>\n",
       "      <td>90.0</td>\n",
       "      <td>88.0</td>\n",
       "      <td>91.0</td>\n",
       "      <td>62.0</td>\n",
       "      <td>88.0</td>\n",
       "    </tr>\n",
       "    <tr>\n",
       "      <th>2</th>\n",
       "      <td>Neymar</td>\n",
       "      <td>25</td>\n",
       "      <td>https://cdn.sofifa.org/48/18/players/190871.png</td>\n",
       "      <td>Brazil</td>\n",
       "      <td>https://cdn.sofifa.org/flags/54.png</td>\n",
       "      <td>92</td>\n",
       "      <td>94</td>\n",
       "      <td>Paris Saint-Germain</td>\n",
       "      <td>https://cdn.sofifa.org/24/18/teams/73.png</td>\n",
       "      <td>€123M</td>\n",
       "      <td>...</td>\n",
       "      <td>59.0</td>\n",
       "      <td>46.0</td>\n",
       "      <td>79.0</td>\n",
       "      <td>59.0</td>\n",
       "      <td>88.0</td>\n",
       "      <td>87.0</td>\n",
       "      <td>84.0</td>\n",
       "      <td>89.0</td>\n",
       "      <td>64.0</td>\n",
       "      <td>84.0</td>\n",
       "    </tr>\n",
       "    <tr>\n",
       "      <th>3</th>\n",
       "      <td>L. Suárez</td>\n",
       "      <td>30</td>\n",
       "      <td>https://cdn.sofifa.org/48/18/players/176580.png</td>\n",
       "      <td>Uruguay</td>\n",
       "      <td>https://cdn.sofifa.org/flags/60.png</td>\n",
       "      <td>92</td>\n",
       "      <td>92</td>\n",
       "      <td>FC Barcelona</td>\n",
       "      <td>https://cdn.sofifa.org/24/18/teams/241.png</td>\n",
       "      <td>€97M</td>\n",
       "      <td>...</td>\n",
       "      <td>64.0</td>\n",
       "      <td>58.0</td>\n",
       "      <td>80.0</td>\n",
       "      <td>65.0</td>\n",
       "      <td>88.0</td>\n",
       "      <td>85.0</td>\n",
       "      <td>88.0</td>\n",
       "      <td>87.0</td>\n",
       "      <td>68.0</td>\n",
       "      <td>88.0</td>\n",
       "    </tr>\n",
       "    <tr>\n",
       "      <th>4</th>\n",
       "      <td>M. Neuer</td>\n",
       "      <td>31</td>\n",
       "      <td>https://cdn.sofifa.org/48/18/players/167495.png</td>\n",
       "      <td>Germany</td>\n",
       "      <td>https://cdn.sofifa.org/flags/21.png</td>\n",
       "      <td>92</td>\n",
       "      <td>92</td>\n",
       "      <td>FC Bayern Munich</td>\n",
       "      <td>https://cdn.sofifa.org/24/18/teams/21.png</td>\n",
       "      <td>€61M</td>\n",
       "      <td>...</td>\n",
       "      <td>NaN</td>\n",
       "      <td>NaN</td>\n",
       "      <td>NaN</td>\n",
       "      <td>NaN</td>\n",
       "      <td>NaN</td>\n",
       "      <td>NaN</td>\n",
       "      <td>NaN</td>\n",
       "      <td>NaN</td>\n",
       "      <td>NaN</td>\n",
       "      <td>NaN</td>\n",
       "    </tr>\n",
       "  </tbody>\n",
       "</table>\n",
       "<p>5 rows × 74 columns</p>\n",
       "</div>"
      ],
      "text/plain": [
       "                Name  Age                                            Photo  \\\n",
       "0  Cristiano Ronaldo   32   https://cdn.sofifa.org/48/18/players/20801.png   \n",
       "1           L. Messi   30  https://cdn.sofifa.org/48/18/players/158023.png   \n",
       "2             Neymar   25  https://cdn.sofifa.org/48/18/players/190871.png   \n",
       "3          L. Suárez   30  https://cdn.sofifa.org/48/18/players/176580.png   \n",
       "4           M. Neuer   31  https://cdn.sofifa.org/48/18/players/167495.png   \n",
       "\n",
       "  Nationality                                 Flag  Overall  Potential  \\\n",
       "0    Portugal  https://cdn.sofifa.org/flags/38.png       94         94   \n",
       "1   Argentina  https://cdn.sofifa.org/flags/52.png       93         93   \n",
       "2      Brazil  https://cdn.sofifa.org/flags/54.png       92         94   \n",
       "3     Uruguay  https://cdn.sofifa.org/flags/60.png       92         92   \n",
       "4     Germany  https://cdn.sofifa.org/flags/21.png       92         92   \n",
       "\n",
       "                  Club                                   Club Logo   Value  \\\n",
       "0       Real Madrid CF  https://cdn.sofifa.org/24/18/teams/243.png  €95.5M   \n",
       "1         FC Barcelona  https://cdn.sofifa.org/24/18/teams/241.png   €105M   \n",
       "2  Paris Saint-Germain   https://cdn.sofifa.org/24/18/teams/73.png   €123M   \n",
       "3         FC Barcelona  https://cdn.sofifa.org/24/18/teams/241.png    €97M   \n",
       "4     FC Bayern Munich   https://cdn.sofifa.org/24/18/teams/21.png    €61M   \n",
       "\n",
       "   ...     RB   RCB   RCM   RDM    RF    RM    RS    RW   RWB    ST  \n",
       "0  ...   61.0  53.0  82.0  62.0  91.0  89.0  92.0  91.0  66.0  92.0  \n",
       "1  ...   57.0  45.0  84.0  59.0  92.0  90.0  88.0  91.0  62.0  88.0  \n",
       "2  ...   59.0  46.0  79.0  59.0  88.0  87.0  84.0  89.0  64.0  84.0  \n",
       "3  ...   64.0  58.0  80.0  65.0  88.0  85.0  88.0  87.0  68.0  88.0  \n",
       "4  ...    NaN   NaN   NaN   NaN   NaN   NaN   NaN   NaN   NaN   NaN  \n",
       "\n",
       "[5 rows x 74 columns]"
      ]
     },
     "execution_count": 29,
     "metadata": {},
     "output_type": "execute_result"
    }
   ],
   "source": [
    "footballers.head()"
   ]
  },
  {
   "cell_type": "code",
   "execution_count": 5,
   "metadata": {},
   "outputs": [],
   "source": [
    "# sorted(list(footballers.columns))"
   ]
  },
  {
   "cell_type": "code",
   "execution_count": 6,
   "metadata": {},
   "outputs": [],
   "source": [
    "# footballers['Preferred Positions'].unique()"
   ]
  },
  {
   "cell_type": "code",
   "execution_count": 30,
   "metadata": {
    "collapsed": true
   },
   "outputs": [],
   "source": [
    "df = footballers.loc[footballers['Preferred Positions'].isin(['ST ','GK '])]"
   ]
  },
  {
   "cell_type": "code",
   "execution_count": 31,
   "metadata": {},
   "outputs": [
    {
     "data": {
      "text/plain": [
       "<seaborn.axisgrid.FacetGrid at 0x7fb774394c10>"
      ]
     },
     "execution_count": 31,
     "metadata": {},
     "output_type": "execute_result"
    },
    {
     "data": {
      "image/png": "[encoded data removed]",
      "text/plain": [
       "<matplotlib.figure.Figure at 0x7fb7749bc650>"
      ]
     },
     "metadata": {},
     "output_type": "display_data"
    }
   ],
   "source": [
    "g = sns.FacetGrid(df, col='Preferred Positions')\n",
    "g.map(sns.kdeplot,\"Overall\")"
   ]
  },
  {
   "cell_type": "code",
   "execution_count": 34,
   "metadata": {},
   "outputs": [],
   "source": [
    "df = footballers.loc[footballers['Preferred Positions'].isin(['ST ','GK '])]\n",
    "df = df.loc[df['Club'].isin(['Real Madrid CF', 'FC Barcelona'])]\n",
    "# 'FC Barcelona', 'Atlético Madrid'"
   ]
  },
  {
   "cell_type": "code",
   "execution_count": 35,
   "metadata": {},
   "outputs": [
    {
     "data": {
      "text/plain": [
       "<seaborn.axisgrid.FacetGrid at 0x7fb773701f10>"
      ]
     },
     "execution_count": 35,
     "metadata": {},
     "output_type": "execute_result"
    },
    {
     "data": {
      "image/png": "[encoded data removed]",
      "text/plain": [
       "<matplotlib.figure.Figure at 0x7fb77379c850>"
      ]
     },
     "metadata": {},
     "output_type": "display_data"
    }
   ],
   "source": [
    "g = sns.FacetGrid(df,row='Preferred Positions',col='Club')\n",
    "g.map(sns.violinplot, \"Overall\")"
   ]
  },
  {
   "cell_type": "code",
   "execution_count": null,
   "metadata": {
    "collapsed": true
   },
   "outputs": [],
   "source": []
  },
  {
   "cell_type": "code",
   "execution_count": null,
   "metadata": {
    "collapsed": true
   },
   "outputs": [],
   "source": []
  }
 ],
 "metadata": {
  "kernelspec": {
   "display_name": "Python 2",
   "language": "python",
   "name": "python2"
  },
  "language_info": {
   "codemirror_mode": {
    "name": "ipython",
    "version": 2
   },
   "file_extension": ".py",
   "mimetype": "text/x-python",
   "name": "python",
   "nbconvert_exporter": "python",
   "pygments_lexer": "ipython2",
   "version": "2.7.12+"
  }
 },
 "nbformat": 4,
 "nbformat_minor": 2
}
